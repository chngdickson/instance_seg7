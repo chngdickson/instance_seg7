{
 "cells": [
  {
   "cell_type": "code",
   "execution_count": 1,
   "metadata": {},
   "outputs": [],
   "source": [
    "# !python3 segment/predict.py \\\n",
    "#         --weights runs/train-seg/exp10/weights/best.pt \\\n",
    "#         --source \"data/test/images\"   # your own video/image"
   ]
  },
  {
   "cell_type": "code",
   "execution_count": 2,
   "metadata": {},
   "outputs": [
    {
     "name": "stderr",
     "output_type": "stream",
     "text": [
      "YOLOv5 🚀 yolov7-segmentation-45-gb59e484 Python-3.10.16 torch-2.6.0+cu124 CUDA:0 (NVIDIA GeForce RTX 3090, 24250MiB)\n",
      "\n",
      "Fusing layers... \n",
      "Model summary: 325 layers, 37847870 parameters, 0 gradients, 141.9 GFLOPs\n"
     ]
    },
    {
     "name": "stdout",
     "output_type": "stream",
     "text": [
      "torch.Size([4, 640, 640])\n"
     ]
    }
   ],
   "source": [
    "from segment.predict2 import Infer_seg\n",
    "import numpy as np\n",
    "import cv2\n",
    "source = \"data/test/images/203_trunk_png.rf.f78685c5f5f80468d9e52929278da43a.jpg\"\n",
    "weight_src = \"runs/train-seg/exp10/weights/best.pt\"\n",
    "\n",
    "model = Infer_seg(weights=weight_src)\n",
    "det_bbox, proto = model.forward(cv2.imread(source))\n",
    "\n",
    "print(proto.shape)"
   ]
  },
  {
   "cell_type": "code",
   "execution_count": 3,
   "metadata": {},
   "outputs": [
    {
     "name": "stdout",
     "output_type": "stream",
     "text": [
      "torch.Size([4, 640, 640])\n"
     ]
    }
   ],
   "source": [
    "import matplotlib.pyplot as plt\n",
    "import matplotlib\n",
    "matplotlib.use('TkAgg')\n",
    "import cv2\n",
    "print(proto.shape)\n",
    "cv2.imshow('frame',proto.detach().cpu().numpy()[2])\n",
    "cv2.waitKey(0)\n",
    "cv2.destroyAllWindows()"
   ]
  },
  {
   "cell_type": "code",
   "execution_count": 4,
   "metadata": {},
   "outputs": [
    {
     "name": "stdout",
     "output_type": "stream",
     "text": [
      "(640, 640)\n"
     ]
    }
   ],
   "source": [
    "# the detections are splits into proto aka the masks of each detection\n",
    "# \n",
    "print(proto.detach().cpu().numpy()[1].shape)"
   ]
  },
  {
   "cell_type": "code",
   "execution_count": 7,
   "metadata": {},
   "outputs": [],
   "source": [
    "import torch\n",
    "def im_mask_from_cls(detection_bbox,im_mask, cls=1):\n",
    "    x1,y1,x2,y2,conf,detclass = detection_bbox[:,:6].T\n",
    "    class_indices = torch.where(detclass == cls)[0]\n",
    "    cls_mask = torch.clamp(im_mask[class_indices].sum(dim=0), 0,1)\n",
    "    return cls_mask\n",
    "    \n",
    "im_mask = im_mask_from_cls(det_bbox, proto)\n",
    "cv2.imshow('frame',im_mask.detach().cpu().numpy())\n",
    "cv2.waitKey(0)\n",
    "cv2.destroyAllWindows()"
   ]
  },
  {
   "cell_type": "code",
   "execution_count": null,
   "metadata": {},
   "outputs": [
    {
     "name": "stdout",
     "output_type": "stream",
     "text": [
      "(640, 640)\n"
     ]
    }
   ],
   "source": [
    "def im_mask_from_center_region(detection_bbox, im_mask, cls=1, center_tol=200):\n",
    "    \"\"\"\n",
    "    Computes a mask for detections of class `cls` within `center_tol` pixels of the image center.\n",
    "    \n",
    "    Args:\n",
    "        detection_bbox (Tensor): [N, 6] (x1, y1, x2, y2, conf, class)\n",
    "        im_mask (Tensor): [N, H, W] (binary masks per detection)\n",
    "        cls (int): Class ID to filter\n",
    "        center_tol (int): Pixel tolerance around center\n",
    "    \n",
    "    Returns:\n",
    "        Tensor: [H, W] binary mask (summed & clamped to [0, 1])\n",
    "    \"\"\"\n",
    "    # Extract bbox data [N, 6] -> (x1, y1, x2, y2, conf, class)\n",
    "    x1, y1, x2, y2, conf, detclass = detection_bbox[:, :6].T  # shapes: [N]\n",
    "    H, W = im_mask.shape[1], im_mask.shape[2]\n",
    "    \n",
    "    # Compute center bounds (fixed region)\n",
    "    center_x, center_y = W // 2, H // 2\n",
    "    x_min, x_max = center_x - center_tol, center_x + center_tol\n",
    "    y_min, y_max = center_y - center_tol, center_y + center_tol\n",
    "    \n",
    "    # Find detections of class `cls` whose centers are inside the central region\n",
    "    box_centers_x = (x1 + x2) / 2  # [N]\n",
    "    box_centers_y = (y1 + y2) / 2  # [N]\n",
    "    \n",
    "    is_cls = (detclass == cls)  # [N]\n",
    "    is_in_center = (\n",
    "        (box_centers_x >= x_min) & \n",
    "        (box_centers_x <= x_max) & \n",
    "        (box_centers_y >= y_min) & \n",
    "        (box_centers_y <= y_max))\n",
    "    \n",
    "    valid_indices = torch.where(is_cls & is_in_center)[0]\n",
    "    \n",
    "    if len(valid_indices) == 0:\n",
    "        return torch.zeros_like(im_mask[0]), 0 , (0,0) # No matches\n",
    "    elif len(valid_indices) > 1:\n",
    "        valid_indices = valid_indices[torch.argmax(conf[valid_indices])].unsqueeze(0)\n",
    "    else: # Valid indices is only 1\n",
    "        pass\n",
    "    # Sum all valid masks and clamp\n",
    "    cls_mask = torch.clamp(im_mask[valid_indices].sum(dim=0), 0, 1)\n",
    "    return cls_mask.detach().cpu().numpy(), len(valid_indices), (box_centers_x[valid_indices], box_centers_y[valid_indices])\n",
    "\n",
    "im_mask, det = im_mask_from_center_region(det_bbox, proto, center_tol=200)\n",
    "print(im_mask.shape)\n",
    "cv2.imshow('frame',im_mask)\n",
    "cv2.waitKey(0)\n",
    "cv2.destroyAllWindows()"
   ]
  },
  {
   "cell_type": "code",
   "execution_count": 15,
   "metadata": {},
   "outputs": [
    {
     "name": "stdout",
     "output_type": "stream",
     "text": [
      "1\n"
     ]
    }
   ],
   "source": [
    "print(det)"
   ]
  },
  {
   "cell_type": "code",
   "execution_count": null,
   "metadata": {},
   "outputs": [],
   "source": []
  }
 ],
 "metadata": {
  "kernelspec": {
   "display_name": "yolov7",
   "language": "python",
   "name": "python3"
  },
  "language_info": {
   "codemirror_mode": {
    "name": "ipython",
    "version": 3
   },
   "file_extension": ".py",
   "mimetype": "text/x-python",
   "name": "python",
   "nbconvert_exporter": "python",
   "pygments_lexer": "ipython3",
   "version": "3.10.16"
  }
 },
 "nbformat": 4,
 "nbformat_minor": 2
}
