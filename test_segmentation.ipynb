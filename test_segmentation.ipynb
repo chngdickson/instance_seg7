{
 "cells": [
  {
   "cell_type": "code",
   "execution_count": 1,
   "metadata": {},
   "outputs": [],
   "source": [
    "# !python3 segment/predict.py \\\n",
    "#         --weights runs/train-seg/exp10/weights/best.pt \\\n",
    "#         --source \"data/test/images\"   # your own video/image"
   ]
  },
  {
   "cell_type": "code",
   "execution_count": 9,
   "metadata": {},
   "outputs": [
    {
     "name": "stderr",
     "output_type": "stream",
     "text": [
      "YOLOv5 🚀 ad8e77f Python-3.10.16 torch-2.6.0+cu124 CUDA:0 (NVIDIA GeForce RTX 3090, 24250MiB)\n",
      "\n",
      "Fusing layers... \n",
      "Model summary: 325 layers, 37847870 parameters, 0 gradients, 141.9 GFLOPs\n"
     ]
    }
   ],
   "source": [
    "from segment.predict2 import Infer_seg\n",
    "import numpy as np\n",
    "import cv2\n",
    "source = \"data/test/images/203_trunk_png.rf.f78685c5f5f80468d9e52929278da43a.jpg\"\n",
    "weight_src = \"runs/train-seg/exp10/weights/best.pt\"\n",
    "\n",
    "model = Infer_seg(weights=weight_src)\n",
    "det_bbox, proto = model.forward(cv2.imread(source))\n",
    "\n",
    "im_mask = model.im_mask_from_cls(det_bbox, proto, cls=1)\n",
    "cv2.imshow('frame',im_mask.detach().cpu().numpy())\n",
    "cv2.waitKey(0)\n",
    "cv2.destroyAllWindows()\n",
    "\n",
    "im_mask, det, uv_center = model.im_mask_from_center_region(det_bbox, proto, cls=1)\n",
    "cv2.imshow('frame',im_mask)\n",
    "cv2.waitKey(0)\n",
    "cv2.destroyAllWindows()"
   ]
  },
  {
   "cell_type": "code",
   "execution_count": null,
   "metadata": {},
   "outputs": [],
   "source": []
  }
 ],
 "metadata": {
  "kernelspec": {
   "display_name": "yolov7",
   "language": "python",
   "name": "python3"
  },
  "language_info": {
   "codemirror_mode": {
    "name": "ipython",
    "version": 3
   },
   "file_extension": ".py",
   "mimetype": "text/x-python",
   "name": "python",
   "nbconvert_exporter": "python",
   "pygments_lexer": "ipython3",
   "version": "3.10.16"
  }
 },
 "nbformat": 4,
 "nbformat_minor": 2
}
